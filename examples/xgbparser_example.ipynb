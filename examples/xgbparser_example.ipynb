{
 "cells": [
  {
   "cell_type": "markdown",
   "metadata": {},
   "source": [
    "# modelint with XGBoost regressor"
   ]
  },
  {
   "cell_type": "markdown",
   "metadata": {},
   "source": [
    "## 0. Needed libraries"
   ]
  },
  {
   "cell_type": "code",
   "execution_count": 1,
   "metadata": {
    "collapsed": false
   },
   "outputs": [],
   "source": [
    "import _my_path\n",
    "import xgboost as xgb\n",
    "from sklearn.datasets import load_boston\n",
    "from modelint.xgbparser import TreeEnsemble"
   ]
  },
  {
   "cell_type": "code",
   "execution_count": 2,
   "metadata": {
    "collapsed": true
   },
   "outputs": [],
   "source": [
    "%matplotlib inline"
   ]
  },
  {
   "cell_type": "markdown",
   "metadata": {},
   "source": [
    "## 1. Load data and train model"
   ]
  },
  {
   "cell_type": "markdown",
   "metadata": {},
   "source": [
    "We use the Boston House Prices dataset"
   ]
  },
  {
   "cell_type": "code",
   "execution_count": 3,
   "metadata": {
    "collapsed": false
   },
   "outputs": [
    {
     "name": "stdout",
     "output_type": "stream",
     "text": [
      "Boston House Prices dataset\n",
      "\n",
      "Notes\n",
      "------\n",
      "Data Set Characteristics:  \n",
      "\n",
      "    :Number of Instances: 506 \n",
      "\n",
      "    :Number of Attributes: 13 numeric/categorical predictive\n",
      "    \n",
      "    :Median Value (attribute 14) is usually the target\n",
      "\n",
      "    :Attribute Information (in order):\n",
      "        - CRIM     per capita crime rate by town\n",
      "        - ZN       proportion of residential land zoned for lots over 25,000 sq.ft.\n",
      "        - INDUS    proportion of non-retail business acres per town\n",
      "        - CHAS     Charles River dummy variable (= 1 if tract bounds river; 0 otherwise)\n",
      "        - NOX      nitric oxides concentration (parts per 10 million)\n",
      "        - RM       average number of rooms per dwelling\n",
      "        - AGE      proportion of owner-occupied units built prior to 1940\n",
      "        - DIS      weighted distances to five Boston employment centres\n",
      "        - RAD      index of accessibility to radial highways\n",
      "        - TAX      full-value property-tax rate per $10,000\n",
      "        - PTRATIO  pupil-teacher ratio by town\n",
      "        - B        1000(Bk - 0.63)^2 where Bk is the proportion of blacks by town\n",
      "        - LSTAT    % lower status of the population\n",
      "        - MEDV     Median value of owner-occupied homes in $1000's\n",
      "\n",
      "    :Missing Attribute Values: None\n",
      "\n",
      "    :Creator: Harrison, D. and Rubinfeld, D.L.\n",
      "\n"
     ]
    }
   ],
   "source": [
    "boston = load_boston()\n",
    "print(boston.DESCR[:1280])"
   ]
  },
  {
   "cell_type": "markdown",
   "metadata": {},
   "source": [
    "We train an XGBoost regression model..."
   ]
  },
  {
   "cell_type": "code",
   "execution_count": 4,
   "metadata": {
    "collapsed": false
   },
   "outputs": [],
   "source": [
    "dtrain = xgb.DMatrix(data=boston.data,\n",
    "                     label=boston.target,\n",
    "                     feature_names=boston.feature_names)\n",
    "params = {'objective': 'reg:linear', \n",
    "          'base_score': 0.,\n",
    "          'max_depth': 4, \n",
    "          'eta': 0.5, \n",
    "          'gamma': 1.,\n",
    "          'alpha': 1., \n",
    "          'lambda': 50.,\n",
    "          'min_child_weight': 4,\n",
    "          'subsample': 0.9,\n",
    "          'colsample_bylevel': 0.3}\n",
    "bst = xgb.train(params, dtrain, num_boost_round=100)"
   ]
  },
  {
   "cell_type": "markdown",
   "metadata": {
    "collapsed": false
   },
   "source": [
    "...and dump it as a text file"
   ]
  },
  {
   "cell_type": "code",
   "execution_count": 5,
   "metadata": {
    "collapsed": true
   },
   "outputs": [],
   "source": [
    "bst.dump_model('xgb_dump.txt', with_stats=True)"
   ]
  },
  {
   "cell_type": "code",
   "execution_count": 6,
   "metadata": {
    "collapsed": false
   },
   "outputs": [
    {
     "name": "stdout",
     "output_type": "stream",
     "text": [
      "booster[0]:\r\n",
      "0:[CRIM<15.718] yes=1,no=2,missing=1,gain=831.614,cover=458\r\n",
      "\t1:leaf=10.3049,cover=433\r\n",
      "\t2:leaf=1.694,cover=25\r\n",
      "booster[1]:\r\n",
      "0:[PTRATIO<19.9] yes=1,no=2,missing=1,gain=2013,cover=461\r\n",
      "\t1:leaf=6.77008,cover=273\r\n",
      "\t2:[INDUS<24.815] yes=3,no=4,missing=3,gain=32.3987,cover=188\r\n",
      "\t\t3:leaf=3.01455,cover=183\r\n",
      "\t\t4:leaf=0.104324,cover=5\r\n"
     ]
    }
   ],
   "source": [
    "!head 'xgb_dump.txt'"
   ]
  },
  {
   "cell_type": "markdown",
   "metadata": {},
   "source": [
    "## 2. Interpret prediction"
   ]
  },
  {
   "cell_type": "markdown",
   "metadata": {},
   "source": [
    "Load model"
   ]
  },
  {
   "cell_type": "code",
   "execution_count": 7,
   "metadata": {
    "collapsed": false
   },
   "outputs": [],
   "source": [
    "interpreter = TreeEnsemble(feat_map=boston.feature_names, \n",
    "                           base_score=params['base_score']) # careful to add the correct base_score !\n",
    "interpreter.load_dump('xgb_dump.txt')"
   ]
  },
  {
   "cell_type": "markdown",
   "metadata": {},
   "source": [
    "We chose a sample to predict"
   ]
  },
  {
   "cell_type": "code",
   "execution_count": 8,
   "metadata": {
    "collapsed": false
   },
   "outputs": [
    {
     "name": "stdout",
     "output_type": "stream",
     "text": [
      "booster[0]:\r\n",
      "0:[CRIM<15.718] yes=1,no=2,missing=1,gain=831.614,cover=458\r\n",
      "\t1:leaf=10.3049,cover=433\r\n",
      "\t2:leaf=1.694,cover=25\r\n",
      "booster[1]:\r\n",
      "0:[PTRATIO<19.9] yes=1,no=2,missing=1,gain=2013,cover=461\r\n",
      "\t1:leaf=6.77008,cover=273\r\n",
      "\t2:[INDUS<24.815] yes=3,no=4,missing=3,gain=32.3987,cover=188\r\n",
      "\t\t3:leaf=3.01455,cover=183\r\n",
      "\t\t4:leaf=0.104324,cover=5\r\n"
     ]
    }
   ],
   "source": [
    "!head xgb_dump.txt"
   ]
  },
  {
   "cell_type": "code",
   "execution_count": 9,
   "metadata": {
    "collapsed": true
   },
   "outputs": [],
   "source": [
    "TO_PREDICT = 161\n",
    "x = boston.data[TO_PREDICT].ravel()"
   ]
  },
  {
   "cell_type": "markdown",
   "metadata": {},
   "source": [
    "We plot the importance of each features"
   ]
  },
  {
   "cell_type": "code",
   "execution_count": 10,
   "metadata": {
    "collapsed": false
   },
   "outputs": [
    {
     "data": {
      "image/png": "[encoded data removed]",
      "text/plain": [
       "<matplotlib.figure.Figure at 0x7fb1088a35c0>"
      ]
     },
     "metadata": {},
     "output_type": "display_data"
    }
   ],
   "source": [
    "interpreter.plot_parts(x)"
   ]
  },
  {
   "cell_type": "markdown",
   "metadata": {},
   "source": [
    "Note that we can get the numeric version :"
   ]
  },
  {
   "cell_type": "code",
   "execution_count": 11,
   "metadata": {
    "collapsed": false
   },
   "outputs": [],
   "source": [
    "pred, features_parts, bias = interpreter.predict(x)"
   ]
  },
  {
   "cell_type": "code",
   "execution_count": 12,
   "metadata": {
    "collapsed": false
   },
   "outputs": [
    {
     "name": "stdout",
     "output_type": "stream",
     "text": [
      "Feature\t\tParticipation\n",
      "-------\t\t-------------\n",
      "bias\t\t+22.4\n",
      "RM\t\t+13.1\n",
      "LSTAT\t\t+4.9\n",
      "PTRATIO\t\t+2.6\n",
      "DIS\t\t+2.0\n",
      "B\t\t+1.1\n",
      "NOX\t\t+1.0\n",
      "CRIM\t\t+0.8\n",
      "ZN\t\t-0.5\n",
      "AGE\t\t+0.4\n",
      "CHAS\t\t+0.4\n",
      "TAX\t\t+0.1\n",
      "INDUS\t\t+0.1\n",
      "RAD\t\t-0.0\n",
      "-------\t\t-------------\n",
      "prediction =\t48.4\n"
     ]
    }
   ],
   "source": [
    "part_feats = [(abs(p), p, f) for p, f in zip(features_parts, boston.feature_names)]\n",
    "part_feats.sort(reverse=True)\n",
    "\n",
    "print('Feature\\t\\tParticipation')\n",
    "print('-------\\t\\t-------------')\n",
    "print('{}\\t\\t{}{:.1f}'.format('bias', '+' if bias else '', bias))\n",
    "for _, p, f in part_feats:\n",
    "    if p >= 0.:\n",
    "        sign = '+'\n",
    "    else:\n",
    "        sign = ''\n",
    "    print('{}\\t\\t{}{:2.1f}'.format(f, sign, p))\n",
    "print('-------\\t\\t-------------')\n",
    "print('prediction =\\t{:.1f}'.format(pred))"
   ]
  }
 ],
 "metadata": {
  "kernelspec": {
   "display_name": "Python 3",
   "language": "python",
   "name": "python3"
  },
  "language_info": {
   "codemirror_mode": {
    "name": "ipython",
    "version": 3
   },
   "file_extension": ".py",
   "mimetype": "text/x-python",
   "name": "python",
   "nbconvert_exporter": "python",
   "pygments_lexer": "ipython3",
   "version": "3.5.1"
  }
 },
 "nbformat": 4,
 "nbformat_minor": 0
}
